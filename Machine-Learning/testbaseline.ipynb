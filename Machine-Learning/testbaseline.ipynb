{
 "cells": [
  {
   "cell_type": "code",
   "execution_count": 67,
   "metadata": {},
   "outputs": [],
   "source": [
    "# load in pickled models\n",
    "from sklearn.externals import joblib\n",
    "\n",
    "nn = joblib.load('baseline.pkl')\n",
    "tfidf = joblib.load('tfidf.pkl')"
   ]
  },
  {
   "cell_type": "code",
   "execution_count": 68,
   "metadata": {},
   "outputs": [],
   "source": [
    "user_input = \"I want something to help with lack of appetite\"\n",
    "user_input = pd.Series(user_input)\n",
    "vect_input = tfidf.transform(user_input)\n",
    "score, recommended_strains = nn.kneighbors(vect_input.todense())"
   ]
  },
  {
   "cell_type": "code",
   "execution_count": 69,
   "metadata": {},
   "outputs": [
    {
     "data": {
      "text/plain": [
       "array([[1148, 1448,  620,   20,  439]])"
      ]
     },
     "execution_count": 69,
     "metadata": {},
     "output_type": "execute_result"
    }
   ],
   "source": [
    "recommended_strains"
   ]
  },
  {
   "cell_type": "code",
   "execution_count": 71,
   "metadata": {},
   "outputs": [
    {
     "data": {
      "text/html": [
       "<div>\n",
       "<style scoped>\n",
       "    .dataframe tbody tr th:only-of-type {\n",
       "        vertical-align: middle;\n",
       "    }\n",
       "\n",
       "    .dataframe tbody tr th {\n",
       "        vertical-align: top;\n",
       "    }\n",
       "\n",
       "    .dataframe thead th {\n",
       "        text-align: right;\n",
       "    }\n",
       "</style>\n",
       "<table border=\"1\" class=\"dataframe\">\n",
       "  <thead>\n",
       "    <tr style=\"text-align: right;\">\n",
       "      <th></th>\n",
       "      <th>name</th>\n",
       "      <th>flavors</th>\n",
       "      <th>race</th>\n",
       "      <th>positive_effects</th>\n",
       "      <th>negative_effects</th>\n",
       "      <th>medical_uses</th>\n",
       "      <th>Rating</th>\n",
       "      <th>Description</th>\n",
       "    </tr>\n",
       "  </thead>\n",
       "  <tbody>\n",
       "    <tr>\n",
       "      <th>1</th>\n",
       "      <td>Afpak</td>\n",
       "      <td>Earthy, Chemical, Pine, SpicyHerbal</td>\n",
       "      <td>hybrid</td>\n",
       "      <td>Relaxed, Hungry, Happy, Sleepy, Creative, Focused</td>\n",
       "      <td>Dizzy</td>\n",
       "      <td>Depression, Insomnia, Pain, Stress, Lack of Ap...</td>\n",
       "      <td>4.2</td>\n",
       "      <td>Afpak named for its direct Afghani and Pakista...</td>\n",
       "    </tr>\n",
       "    <tr>\n",
       "      <th>2</th>\n",
       "      <td>African</td>\n",
       "      <td>SpicyHerbal, Pungent, Earthy, Pepper</td>\n",
       "      <td>sativa</td>\n",
       "      <td>Euphoric, Happy, Creative, Energetic, Talkativ...</td>\n",
       "      <td>Dry Mouth</td>\n",
       "      <td>Depression, Pain, Stress, Lack of Appetite, Na...</td>\n",
       "      <td>3.9</td>\n",
       "      <td>African refers to the indigenous varieties of ...</td>\n",
       "    </tr>\n",
       "    <tr>\n",
       "      <th>3</th>\n",
       "      <td>Afternoon Delight</td>\n",
       "      <td>Pepper, Flowery, Pine, Pungent, Citrus, Tropical</td>\n",
       "      <td>hybrid</td>\n",
       "      <td>Relaxed, Hungry, Euphoric, Uplifted, Tingly, T...</td>\n",
       "      <td>Dizzy, Dry Mouth, Paranoid</td>\n",
       "      <td>Depression, Insomnia, Pain, Stress, Cramps, He...</td>\n",
       "      <td>4.8</td>\n",
       "      <td>Afternoon Delight created by Colorado Seed Inc...</td>\n",
       "    </tr>\n",
       "    <tr>\n",
       "      <th>4</th>\n",
       "      <td>Afwreck</td>\n",
       "      <td>Pine, Earthy, Flowery, Pungent</td>\n",
       "      <td>hybrid</td>\n",
       "      <td>Relaxed, Happy, Creative, Uplifted, Sleepy, Eu...</td>\n",
       "      <td>Dizzy, Dry Mouth, Paranoid, Dry Eyes</td>\n",
       "      <td>Pain, Stress, Headache, Fatigue, Headaches, Mu...</td>\n",
       "      <td>4.2</td>\n",
       "      <td>Afwreck is a hybrid cross of Afghani and Train...</td>\n",
       "    </tr>\n",
       "    <tr>\n",
       "      <th>5</th>\n",
       "      <td>Agent Orange</td>\n",
       "      <td>Citrus, Orange, Sweet, Earthy</td>\n",
       "      <td>hybrid</td>\n",
       "      <td>Relaxed, Euphoric, Happy, Energetic, Uplifted</td>\n",
       "      <td>Dizzy, Dry Mouth, Paranoid, Dry Eyes</td>\n",
       "      <td>Depression, Pain, Stress, Nausea, Headache, He...</td>\n",
       "      <td>4.2</td>\n",
       "      <td>Don’t let the name scare you! The only herbici...</td>\n",
       "    </tr>\n",
       "  </tbody>\n",
       "</table>\n",
       "</div>"
      ],
      "text/plain": [
       "                name                                           flavors  \\\n",
       "1              Afpak               Earthy, Chemical, Pine, SpicyHerbal   \n",
       "2            African              SpicyHerbal, Pungent, Earthy, Pepper   \n",
       "3  Afternoon Delight  Pepper, Flowery, Pine, Pungent, Citrus, Tropical   \n",
       "4            Afwreck                    Pine, Earthy, Flowery, Pungent   \n",
       "5       Agent Orange                     Citrus, Orange, Sweet, Earthy   \n",
       "\n",
       "     race                                   positive_effects  \\\n",
       "1  hybrid  Relaxed, Hungry, Happy, Sleepy, Creative, Focused   \n",
       "2  sativa  Euphoric, Happy, Creative, Energetic, Talkativ...   \n",
       "3  hybrid  Relaxed, Hungry, Euphoric, Uplifted, Tingly, T...   \n",
       "4  hybrid  Relaxed, Happy, Creative, Uplifted, Sleepy, Eu...   \n",
       "5  hybrid      Relaxed, Euphoric, Happy, Energetic, Uplifted   \n",
       "\n",
       "                       negative_effects  \\\n",
       "1                                 Dizzy   \n",
       "2                             Dry Mouth   \n",
       "3            Dizzy, Dry Mouth, Paranoid   \n",
       "4  Dizzy, Dry Mouth, Paranoid, Dry Eyes   \n",
       "5  Dizzy, Dry Mouth, Paranoid, Dry Eyes   \n",
       "\n",
       "                                        medical_uses  Rating  \\\n",
       "1  Depression, Insomnia, Pain, Stress, Lack of Ap...     4.2   \n",
       "2  Depression, Pain, Stress, Lack of Appetite, Na...     3.9   \n",
       "3  Depression, Insomnia, Pain, Stress, Cramps, He...     4.8   \n",
       "4  Pain, Stress, Headache, Fatigue, Headaches, Mu...     4.2   \n",
       "5  Depression, Pain, Stress, Nausea, Headache, He...     4.2   \n",
       "\n",
       "                                         Description  \n",
       "1  Afpak named for its direct Afghani and Pakista...  \n",
       "2  African refers to the indigenous varieties of ...  \n",
       "3  Afternoon Delight created by Colorado Seed Inc...  \n",
       "4  Afwreck is a hybrid cross of Afghani and Train...  \n",
       "5  Don’t let the name scare you! The only herbici...  "
      ]
     },
     "execution_count": 71,
     "metadata": {},
     "output_type": "execute_result"
    }
   ],
   "source": [
    "import numpy as np\n",
    "import pandas as pd\n",
    "# checkout these strains compared to the df:\n",
    "df = pd.read_csv('final_df_percentsep.csv', sep='%', index_col='Unnamed: 0')\n",
    "df.head()\n"
   ]
  },
  {
   "cell_type": "code",
   "execution_count": 72,
   "metadata": {},
   "outputs": [
    {
     "name": "stdout",
     "output_type": "stream",
     "text": [
      "[                     name\n",
      "1148         Ripped Bubba\n",
      "1448          Willy Wonka\n",
      "620         Green Monster\n",
      "20    Alien Hallucination\n",
      "439           Disney Blue]\n"
     ]
    }
   ],
   "source": [
    "strains = [df[['name']].loc[n] for n in recommended_strains]\n",
    "print(strains)"
   ]
  },
  {
   "cell_type": "code",
   "execution_count": 73,
   "metadata": {},
   "outputs": [
    {
     "data": {
      "text/plain": [
       "name                                                     Ripped Bubba\n",
       "flavors                                  Sweet, Citrus, Lemon, Earthy\n",
       "race                                                           hybrid\n",
       "positive_effects           Relaxed, Hungry, Euphoric, Happy, Creative\n",
       "negative_effects                  Dizzy, Dry Mouth, Dry Eyes, Anxious\n",
       "medical_uses        Insomnia, Pain, Stress, Lack of Appetite, Head...\n",
       "Rating                                                            4.2\n",
       "Description         Ripped Bubba is a  indica-dominant hybrid bred...\n",
       "Name: 1148, dtype: object"
      ]
     },
     "execution_count": 73,
     "metadata": {},
     "output_type": "execute_result"
    }
   ],
   "source": [
    "df.loc[1148]"
   ]
  },
  {
   "cell_type": "code",
   "execution_count": 74,
   "metadata": {},
   "outputs": [
    {
     "data": {
      "text/plain": [
       "name                                                      Wonder Haze\n",
       "flavors                                Cheese, Earthy, Honey, Pungent\n",
       "race                                                           hybrid\n",
       "positive_effects    Happy, Creative, Energetic, Uplifted, Focused,...\n",
       "negative_effects                           Dizzy, Dry Mouth, Dry Eyes\n",
       "medical_uses         Insomnia, Pain, Stress, Lack of Appetite, Nausea\n",
       "Rating                                                            4.2\n",
       "Description         Wonder Haze is a sativa-dominant hybrid strain...\n",
       "Name: 1449, dtype: object"
      ]
     },
     "execution_count": 74,
     "metadata": {},
     "output_type": "execute_result"
    }
   ],
   "source": [
    "df.iloc[1448]"
   ]
  },
  {
   "cell_type": "code",
   "execution_count": 75,
   "metadata": {},
   "outputs": [
    {
     "data": {
      "text/plain": [
       "name                                                     Green Poison\n",
       "flavors                         Sweet, Lemon, Citrus, Flowery, Earthy\n",
       "race                                                           indica\n",
       "positive_effects    Relaxed, Hungry, Euphoric, Happy, Energetic, S...\n",
       "negative_effects                 Dizzy, Dry Mouth, Paranoid, Dry Eyes\n",
       "medical_uses        Insomnia, Pain, Stress, Lack of Appetite, Head...\n",
       "Rating                                                            4.2\n",
       "Description         Green Poison is a dangerously flavorful indica...\n",
       "Name: 621, dtype: object"
      ]
     },
     "execution_count": 75,
     "metadata": {},
     "output_type": "execute_result"
    }
   ],
   "source": [
    "df.iloc[620]"
   ]
  },
  {
   "cell_type": "code",
   "execution_count": null,
   "metadata": {},
   "outputs": [],
   "source": []
  }
 ],
 "metadata": {
  "kernelspec": {
   "display_name": "U4-S1-NLP python 3.7",
   "language": "python",
   "name": "u4-s1-nlp"
  },
  "language_info": {
   "codemirror_mode": {
    "name": "ipython",
    "version": 3
   },
   "file_extension": ".py",
   "mimetype": "text/x-python",
   "name": "python",
   "nbconvert_exporter": "python",
   "pygments_lexer": "ipython3",
   "version": "3.7.0"
  }
 },
 "nbformat": 4,
 "nbformat_minor": 4
}
