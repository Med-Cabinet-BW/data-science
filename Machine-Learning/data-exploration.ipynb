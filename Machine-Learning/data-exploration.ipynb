{
 "cells": [
  {
   "cell_type": "code",
   "execution_count": 8,
   "metadata": {},
   "outputs": [],
   "source": [
    "import pandas as pd\n",
    "df = pd.read_csv('./merged_df_index.csv')"
   ]
  },
  {
   "cell_type": "code",
   "execution_count": 9,
   "metadata": {},
   "outputs": [
    {
     "data": {
      "text/html": [
       "<div>\n",
       "<style scoped>\n",
       "    .dataframe tbody tr th:only-of-type {\n",
       "        vertical-align: middle;\n",
       "    }\n",
       "\n",
       "    .dataframe tbody tr th {\n",
       "        vertical-align: top;\n",
       "    }\n",
       "\n",
       "    .dataframe thead th {\n",
       "        text-align: right;\n",
       "    }\n",
       "</style>\n",
       "<table border=\"1\" class=\"dataframe\">\n",
       "  <thead>\n",
       "    <tr style=\"text-align: right;\">\n",
       "      <th></th>\n",
       "      <th>id</th>\n",
       "      <th>name</th>\n",
       "      <th>flavors</th>\n",
       "      <th>race</th>\n",
       "      <th>positive_effects</th>\n",
       "      <th>negative_effects</th>\n",
       "      <th>medical_uses</th>\n",
       "      <th>Rating</th>\n",
       "      <th>Description</th>\n",
       "    </tr>\n",
       "  </thead>\n",
       "  <tbody>\n",
       "    <tr>\n",
       "      <th>0</th>\n",
       "      <td>1</td>\n",
       "      <td>Afpak</td>\n",
       "      <td>['Earthy', 'Chemical', 'Pine', 'Spicy/Herbal']</td>\n",
       "      <td>hybrid</td>\n",
       "      <td>['Relaxed', 'Hungry', 'Happy', 'Sleepy', 'Crea...</td>\n",
       "      <td>['Dizzy']</td>\n",
       "      <td>['Depression', 'Insomnia', 'Pain', 'Stress', '...</td>\n",
       "      <td>4.2</td>\n",
       "      <td>Afpak, named for its direct Afghani and Pakist...</td>\n",
       "    </tr>\n",
       "    <tr>\n",
       "      <th>1</th>\n",
       "      <td>2</td>\n",
       "      <td>African</td>\n",
       "      <td>['Spicy/Herbal', 'Pungent', 'Earthy', 'Pepper']</td>\n",
       "      <td>sativa</td>\n",
       "      <td>['Euphoric', 'Happy', 'Creative', 'Energetic',...</td>\n",
       "      <td>['Dry Mouth']</td>\n",
       "      <td>['Depression', 'Pain', 'Stress', 'Lack of Appe...</td>\n",
       "      <td>3.9</td>\n",
       "      <td>African refers to the indigenous varieties of ...</td>\n",
       "    </tr>\n",
       "    <tr>\n",
       "      <th>2</th>\n",
       "      <td>3</td>\n",
       "      <td>Afternoon Delight</td>\n",
       "      <td>['Pepper', 'Flowery', 'Pine', 'Pungent', 'Citr...</td>\n",
       "      <td>hybrid</td>\n",
       "      <td>['Relaxed', 'Hungry', 'Euphoric', 'Uplifted', ...</td>\n",
       "      <td>['Dizzy', 'Dry Mouth', 'Paranoid']</td>\n",
       "      <td>['Depression', 'Insomnia', 'Pain', 'Stress', '...</td>\n",
       "      <td>4.8</td>\n",
       "      <td>Afternoon Delight, created by Colorado Seed In...</td>\n",
       "    </tr>\n",
       "    <tr>\n",
       "      <th>3</th>\n",
       "      <td>4</td>\n",
       "      <td>Afwreck</td>\n",
       "      <td>['Pine', 'Earthy', 'Flowery', 'Pungent']</td>\n",
       "      <td>hybrid</td>\n",
       "      <td>['Relaxed', 'Happy', 'Creative', 'Uplifted', '...</td>\n",
       "      <td>['Dizzy', 'Dry Mouth', 'Paranoid', 'Dry Eyes']</td>\n",
       "      <td>['Pain', 'Stress', 'Headache', 'Fatigue', 'Hea...</td>\n",
       "      <td>4.2</td>\n",
       "      <td>Afwreck is a hybrid cross of Afghani and Train...</td>\n",
       "    </tr>\n",
       "    <tr>\n",
       "      <th>4</th>\n",
       "      <td>5</td>\n",
       "      <td>Agent Orange</td>\n",
       "      <td>['Citrus', 'Orange', 'Sweet', 'Earthy']</td>\n",
       "      <td>hybrid</td>\n",
       "      <td>['Relaxed', 'Euphoric', 'Happy', 'Energetic', ...</td>\n",
       "      <td>['Dizzy', 'Dry Mouth', 'Paranoid', 'Dry Eyes']</td>\n",
       "      <td>['Depression', 'Pain', 'Stress', 'Nausea', 'He...</td>\n",
       "      <td>4.2</td>\n",
       "      <td>Don’t let the name scare you! The only herbici...</td>\n",
       "    </tr>\n",
       "  </tbody>\n",
       "</table>\n",
       "</div>"
      ],
      "text/plain": [
       "   id               name                                            flavors  \\\n",
       "0   1              Afpak     ['Earthy', 'Chemical', 'Pine', 'Spicy/Herbal']   \n",
       "1   2            African    ['Spicy/Herbal', 'Pungent', 'Earthy', 'Pepper']   \n",
       "2   3  Afternoon Delight  ['Pepper', 'Flowery', 'Pine', 'Pungent', 'Citr...   \n",
       "3   4            Afwreck           ['Pine', 'Earthy', 'Flowery', 'Pungent']   \n",
       "4   5       Agent Orange            ['Citrus', 'Orange', 'Sweet', 'Earthy']   \n",
       "\n",
       "     race                                   positive_effects  \\\n",
       "0  hybrid  ['Relaxed', 'Hungry', 'Happy', 'Sleepy', 'Crea...   \n",
       "1  sativa  ['Euphoric', 'Happy', 'Creative', 'Energetic',...   \n",
       "2  hybrid  ['Relaxed', 'Hungry', 'Euphoric', 'Uplifted', ...   \n",
       "3  hybrid  ['Relaxed', 'Happy', 'Creative', 'Uplifted', '...   \n",
       "4  hybrid  ['Relaxed', 'Euphoric', 'Happy', 'Energetic', ...   \n",
       "\n",
       "                                 negative_effects  \\\n",
       "0                                       ['Dizzy']   \n",
       "1                                   ['Dry Mouth']   \n",
       "2              ['Dizzy', 'Dry Mouth', 'Paranoid']   \n",
       "3  ['Dizzy', 'Dry Mouth', 'Paranoid', 'Dry Eyes']   \n",
       "4  ['Dizzy', 'Dry Mouth', 'Paranoid', 'Dry Eyes']   \n",
       "\n",
       "                                        medical_uses  Rating  \\\n",
       "0  ['Depression', 'Insomnia', 'Pain', 'Stress', '...     4.2   \n",
       "1  ['Depression', 'Pain', 'Stress', 'Lack of Appe...     3.9   \n",
       "2  ['Depression', 'Insomnia', 'Pain', 'Stress', '...     4.8   \n",
       "3  ['Pain', 'Stress', 'Headache', 'Fatigue', 'Hea...     4.2   \n",
       "4  ['Depression', 'Pain', 'Stress', 'Nausea', 'He...     4.2   \n",
       "\n",
       "                                         Description  \n",
       "0  Afpak, named for its direct Afghani and Pakist...  \n",
       "1  African refers to the indigenous varieties of ...  \n",
       "2  Afternoon Delight, created by Colorado Seed In...  \n",
       "3  Afwreck is a hybrid cross of Afghani and Train...  \n",
       "4  Don’t let the name scare you! The only herbici...  "
      ]
     },
     "execution_count": 9,
     "metadata": {},
     "output_type": "execute_result"
    }
   ],
   "source": [
    "df.head()"
   ]
  },
  {
   "cell_type": "code",
   "execution_count": 6,
   "metadata": {},
   "outputs": [
    {
     "data": {
      "text/plain": [
       "name                 0\n",
       "flavors              0\n",
       "race                 0\n",
       "positive_effects     0\n",
       "negative_effects     0\n",
       "medical_uses         0\n",
       "Rating               0\n",
       "Description         22\n",
       "dtype: int64"
      ]
     },
     "execution_count": 6,
     "metadata": {},
     "output_type": "execute_result"
    }
   ],
   "source": [
    "df.isnull().sum()"
   ]
  },
  {
   "cell_type": "code",
   "execution_count": 7,
   "metadata": {},
   "outputs": [
    {
     "data": {
      "text/plain": [
       "4.3    222\n",
       "4.5    212\n",
       "4.4    199\n",
       "4.2    175\n",
       "4.6    157\n",
       "4.7    106\n",
       "4.8    103\n",
       "4.1     80\n",
       "5.0     71\n",
       "4.0     54\n",
       "4.9     38\n",
       "3.9     25\n",
       "3.8     15\n",
       "3.7     10\n",
       "3.6      8\n",
       "3.0      5\n",
       "3.5      3\n",
       "3.3      3\n",
       "3.4      3\n",
       "0.0      2\n",
       "3.2      2\n",
       "2.8      1\n",
       "3.1      1\n",
       "Name: Rating, dtype: int64"
      ]
     },
     "execution_count": 7,
     "metadata": {},
     "output_type": "execute_result"
    }
   ],
   "source": [
    "df['Rating'].value_counts()"
   ]
  },
  {
   "cell_type": "code",
   "execution_count": null,
   "metadata": {},
   "outputs": [],
   "source": []
  }
 ],
 "metadata": {
  "kernelspec": {
   "display_name": "U4-S1-NLP python 3.7",
   "language": "python",
   "name": "u4-s1-nlp"
  },
  "language_info": {
   "codemirror_mode": {
    "name": "ipython",
    "version": 3
   },
   "file_extension": ".py",
   "mimetype": "text/x-python",
   "name": "python",
   "nbconvert_exporter": "python",
   "pygments_lexer": "ipython3",
   "version": "3.7.0"
  }
 },
 "nbformat": 4,
 "nbformat_minor": 4
}
